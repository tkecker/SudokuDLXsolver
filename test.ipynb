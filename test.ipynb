{
 "cells": [
  {
   "cell_type": "code",
   "execution_count": 1,
   "id": "b5f3a9ba",
   "metadata": {},
   "outputs": [
    {
     "name": "stdout",
     "output_type": "stream",
     "text": [
      "Number of solutions: 1\n",
      "Solution no. 1\n",
      "*****************\n",
      "5 1 6 8 4 3 9 2 7 \n",
      "3 4 9 2 1 7 5 6 8 \n",
      "8 2 7 6 5 9 4 3 1 \n",
      "1 3 2 5 6 8 7 4 9 \n",
      "9 6 5 7 2 4 8 1 3 \n",
      "7 8 4 3 9 1 6 5 2 \n",
      "6 5 1 9 7 2 3 8 4 \n",
      "2 7 8 4 3 5 1 9 6 \n",
      "4 9 3 1 8 6 2 7 5 \n",
      "*****************\n"
     ]
    }
   ],
   "source": [
    "from SudokuDLXsolver import Sudoku\n",
    "\n",
    "square = [[0,1,0,8,0,3,0,0,0],\n",
    "          [0,0,9,0,0,7,0,6,0],\n",
    "          [0,0,7,6,5,0,0,3,0],\n",
    "          [0,0,0,0,6,0,0,4,9],\n",
    "          [0,0,0,0,0,0,0,0,0],\n",
    "          [0,0,0,0,9,1,6,5,0],\n",
    "          [6,5,0,0,7,0,0,8,0],\n",
    "          [2,0,8,0,0,5,1,9,0],\n",
    "          [0,0,0,0,0,0,0,0,0]]\n",
    "\n",
    "sudoku = Sudoku(square)\n",
    "sudokus = sudoku.solve()\n",
    "n=len(square)\n",
    "print(\"Number of solutions: \"+str(len(sudokus)))\n",
    "for k in range(len(sudokus)):\n",
    "    print(\"Solution no. \"+str(k+1))\n",
    "    print(\"*****************\")\n",
    "    for i in range(n):\n",
    "        l = \"\"\n",
    "        for j in range(n):\n",
    "            l += str(sudokus[k][i][j])+\" \"\n",
    "        print(l)\n",
    "    print(\"*****************\")"
   ]
  },
  {
   "cell_type": "code",
   "execution_count": null,
   "id": "7ac1ba0f",
   "metadata": {},
   "outputs": [],
   "source": []
  }
 ],
 "metadata": {
  "kernelspec": {
   "display_name": "Python 3 (ipykernel)",
   "language": "python",
   "name": "python3"
  },
  "language_info": {
   "codemirror_mode": {
    "name": "ipython",
    "version": 3
   },
   "file_extension": ".py",
   "mimetype": "text/x-python",
   "name": "python",
   "nbconvert_exporter": "python",
   "pygments_lexer": "ipython3",
   "version": "3.9.7"
  }
 },
 "nbformat": 4,
 "nbformat_minor": 5
}
